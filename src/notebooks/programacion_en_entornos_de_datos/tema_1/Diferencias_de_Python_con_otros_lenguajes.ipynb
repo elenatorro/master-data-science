{
 "cells": [
  {
   "cell_type": "markdown",
   "metadata": {},
   "source": [
    "# Ausencia de terminadores de instrucción\n",
    "\n",
    "Primero vamos a familiarizarnos con Python, comenzando por el típico programa que nos imprime un mensaje:"
   ]
  },
  {
   "cell_type": "code",
   "execution_count": 1,
   "metadata": {},
   "outputs": [
    {
     "name": "stdout",
     "output_type": "stream",
     "text": [
      "Hola Mundo\n"
     ]
    }
   ],
   "source": [
    "# Las líneas como esta son comentarios\n",
    "print(\"Hola Mundo\")"
   ]
  },
  {
   "cell_type": "markdown",
   "metadata": {},
   "source": [
    "Si nos damos cuenta, detrás del print(\"Hola Mundo\") no nos encontramos el típico <code>;</code> al que podemos estar acostumbrados si conocemos otros lenguajes como Java o C. Esto significa Python no necesitan un terminador para señalar que ha terminado una sentencia."
   ]
  },
  {
   "cell_type": "markdown",
   "metadata": {},
   "source": [
    "# Tipado dinámico\n",
    "\n",
    "Practiquemos un poco con las variables. En Python una asignación de una variable se realiza así:"
   ]
  },
  {
   "cell_type": "code",
   "execution_count": 2,
   "metadata": {},
   "outputs": [],
   "source": [
    "# Asignación de un valor a una variable\n",
    "a = 4"
   ]
  },
  {
   "cell_type": "markdown",
   "metadata": {},
   "source": [
    "Y una vez que se ha ejecutado ya podemos acceder a su contenido:"
   ]
  },
  {
   "cell_type": "code",
   "execution_count": 3,
   "metadata": {},
   "outputs": [
    {
     "name": "stdout",
     "output_type": "stream",
     "text": [
      "4\n"
     ]
    }
   ],
   "source": [
    "# Imprimir una variable\n",
    "print(a)"
   ]
  },
  {
   "cell_type": "markdown",
   "metadata": {},
   "source": [
    "o a su tipo:"
   ]
  },
  {
   "cell_type": "code",
   "execution_count": 4,
   "metadata": {},
   "outputs": [
    {
     "data": {
      "text/plain": [
       "int"
      ]
     },
     "execution_count": 4,
     "metadata": {},
     "output_type": "execute_result"
    }
   ],
   "source": [
    "# Obtener el tipo de una variable\n",
    "type(a)"
   ]
  },
  {
   "cell_type": "markdown",
   "metadata": {},
   "source": [
    "En Python el tipado es dinámico, si ahora ejecutásemos la siguiente línea de código:"
   ]
  },
  {
   "cell_type": "code",
   "execution_count": 5,
   "metadata": {},
   "outputs": [],
   "source": [
    "# Asignación de otro valor a una variable ya utilizada\n",
    "a = \"mensaje\""
   ]
  },
  {
   "cell_type": "markdown",
   "metadata": {},
   "source": [
    "si volvemos a ejecutar las instrucciones <code>print(a)</code> y/o <code>type(a)</code>, el resultado habrá cambiado. ¡Probad!\n",
    "\n",
    "Además, si intentamos acceder al valor o al tipo de una variable que no ha sido asignada previamente, obtendremos un error. Probad a cambiar la variable a por otra cualquiera (no declarada) en las instrucciones <code>print(a)</code> y/o <code>type(a)</code>."
   ]
  },
  {
   "cell_type": "markdown",
   "metadata": {},
   "source": [
    "# Estructuración de código mediante indentación\n",
    "\n",
    "A diferencia de otros lenguajes como C o Java, el código en Python se estructura mediante indentación. Así, el cuerpo de los bucles, las instrucciones condicionales o las funciones y métodos se indentan, denotándose este hecho mediante el uso de los dos puntos <code>:</code>."
   ]
  },
  {
   "cell_type": "code",
   "execution_count": 6,
   "metadata": {},
   "outputs": [
    {
     "name": "stdout",
     "output_type": "stream",
     "text": [
      "24\n"
     ]
    }
   ],
   "source": [
    "def factorial(f):\n",
    "    ff = 1\n",
    "    for x in range(1,f+1):\n",
    "        ff *= x\n",
    "    return(ff)\n",
    "print(factorial(4))"
   ]
  },
  {
   "cell_type": "markdown",
   "metadata": {},
   "source": [
    "En el ejemplo anterior podemos ver la definición de una función (y su llamada) y cómo el cuerpo de ésta y el de un bucle son indentados."
   ]
  },
  {
   "cell_type": "markdown",
   "metadata": {},
   "source": [
    "# Objetos mutables e inmutables\n",
    "\n",
    "En Python la mayoría de los objetos son mutables (se pueden modificar), como las listas o los arrays (incluídos los de NumPy):"
   ]
  },
  {
   "cell_type": "code",
   "execution_count": 7,
   "metadata": {},
   "outputs": [
    {
     "name": "stdout",
     "output_type": "stream",
     "text": [
      "[1, 2, 3, 'a', 'z']\n",
      "[1, 2, 0, 'a', 'z']\n"
     ]
    }
   ],
   "source": [
    "lista = [1,2,3,'a','z']\n",
    "print(lista)    # Mostramos la lista completa\n",
    "lista[2]=0      # Modificamos un componente de la lista\n",
    "print(lista)    # Mostramos la lista completa ya modificada"
   ]
  },
  {
   "cell_type": "markdown",
   "metadata": {},
   "source": [
    "sin embargo otros objetos son inmutables (no pueden ser modificados), como las tuplas:"
   ]
  },
  {
   "cell_type": "code",
   "execution_count": 8,
   "metadata": {},
   "outputs": [
    {
     "name": "stdout",
     "output_type": "stream",
     "text": [
      "(1, 2, 3, 'a', 'z')\n",
      "3\n"
     ]
    },
    {
     "ename": "TypeError",
     "evalue": "'tuple' object does not support item assignment",
     "output_type": "error",
     "traceback": [
      "\u001b[0;31m---------------------------------------------------------------------------\u001b[0m",
      "\u001b[0;31mTypeError\u001b[0m                                 Traceback (most recent call last)",
      "\u001b[0;32m<ipython-input-8-37f01c28f5d1>\u001b[0m in \u001b[0;36m<module>\u001b[0;34m\u001b[0m\n\u001b[1;32m      2\u001b[0m \u001b[0mprint\u001b[0m\u001b[0;34m(\u001b[0m\u001b[0mtupla\u001b[0m\u001b[0;34m)\u001b[0m    \u001b[0;31m# Mostramos la tupla completa\u001b[0m\u001b[0;34m\u001b[0m\u001b[0;34m\u001b[0m\u001b[0m\n\u001b[1;32m      3\u001b[0m \u001b[0mprint\u001b[0m\u001b[0;34m(\u001b[0m\u001b[0mtupla\u001b[0m\u001b[0;34m[\u001b[0m\u001b[0;36m2\u001b[0m\u001b[0;34m]\u001b[0m\u001b[0;34m)\u001b[0m \u001b[0;31m# Podemos acceder a un componente de la tupla\u001b[0m\u001b[0;34m\u001b[0m\u001b[0;34m\u001b[0m\u001b[0m\n\u001b[0;32m----> 4\u001b[0;31m \u001b[0mtupla\u001b[0m\u001b[0;34m[\u001b[0m\u001b[0;36m2\u001b[0m\u001b[0;34m]\u001b[0m\u001b[0;34m=\u001b[0m\u001b[0;36m0\u001b[0m      \u001b[0;31m# Lo intentamos modificar\u001b[0m\u001b[0;34m\u001b[0m\u001b[0;34m\u001b[0m\u001b[0m\n\u001b[0m",
      "\u001b[0;31mTypeError\u001b[0m: 'tuple' object does not support item assignment"
     ]
    }
   ],
   "source": [
    "tupla = (1,2,3,'a','z')\n",
    "print(tupla)    # Mostramos la tupla completa\n",
    "print(tupla[2]) # Podemos acceder a un componente de la tupla\n",
    "tupla[2]=0      # Lo intentamos modificar"
   ]
  },
  {
   "cell_type": "markdown",
   "metadata": {},
   "source": [
    "Pero sí que podemos modificar el objeto inmutable al completo (aunque no una de sus componentes):"
   ]
  },
  {
   "cell_type": "code",
   "execution_count": null,
   "metadata": {},
   "outputs": [],
   "source": [
    "tupla = (1,2,3,'a','z')\n",
    "print(tupla)            # Mostramos la tupla completa\n",
    "tupla = (1,2,0,'a','z') # Modificamos la tupla completa\n",
    "print(tupla)            # Mostramos la nueva tupla completa"
   ]
  },
  {
   "cell_type": "markdown",
   "metadata": {},
   "source": [
    "Es decir, la inmutabilidad de los objetos se refiere a alguna de sus componentes, no al objeto al completo."
   ]
  }
 ],
 "metadata": {
  "kernelspec": {
   "display_name": "Python 3",
   "language": "python",
   "name": "python3"
  },
  "language_info": {
   "codemirror_mode": {
    "name": "ipython",
    "version": 3
   },
   "file_extension": ".py",
   "mimetype": "text/x-python",
   "name": "python",
   "nbconvert_exporter": "python",
   "pygments_lexer": "ipython3",
   "version": "3.7.5"
  }
 },
 "nbformat": 4,
 "nbformat_minor": 2
}
