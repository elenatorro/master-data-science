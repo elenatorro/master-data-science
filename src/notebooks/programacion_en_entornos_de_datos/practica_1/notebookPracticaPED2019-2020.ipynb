{
 "cells": [
  {
   "cell_type": "markdown",
   "metadata": {},
   "source": [
    "# Práctica de la asignatura Programación en entornos de datos curso 2019-2020\n",
    "\n",
    "La práctica de este curso consiste en ir realizando el trabajo que se pide a lo largo de este notebook. La entrega deberá realizarse en forma de este mismo notebook relleno. En varias celdas se pide que además se justifiquen las decisiones tomadas, para lo cual las respuestas se deberán incluir en forma de comentarios en el código.\n",
    "\n",
    "La parte correspondiente al Tema 1 se trabaja a lo largo de todo el notebook, por lo que no hay una sección dedicada a dicho tema.\n",
    "\n",
    "Forma de evaluación:\n",
    "\n",
    "<ol>\n",
    "    <li>(6 puntos) El código ha de funcionar en su totalidad. Si no es así, la práctica estará suspensa.</li>\n",
    "    <li>(2 puntos) Se valorará la eficiencia de la solución.</li>\n",
    "    <li>(2 puntos) Se valorarán las decisiones tomadas y las explicaciones realizadas.</li>\n",
    "</ol>\n"
   ]
  },
  {
   "cell_type": "markdown",
   "metadata": {},
   "source": [
    "## Parte correspondiente al Tema 2"
   ]
  },
  {
   "cell_type": "markdown",
   "metadata": {},
   "source": [
    "Crear una función que reciba un número entero **size** y devuelva una lista de tamaño **size** donde cada elemento sea un número  entero aleatorio entre **num1** y **num2** (valores que se reciben por parámetro), ambos inclusive."
   ]
  },
  {
   "cell_type": "code",
   "execution_count": null,
   "metadata": {},
   "outputs": [],
   "source": []
  },
  {
   "cell_type": "markdown",
   "metadata": {},
   "source": [
    "Haciendo uso de la función del apartado anterior, generar una lista de tamaño **100** con números en el rango de **-100** a **100** (ambos inclusive)."
   ]
  },
  {
   "cell_type": "code",
   "execution_count": null,
   "metadata": {},
   "outputs": [],
   "source": []
  },
  {
   "cell_type": "markdown",
   "metadata": {},
   "source": [
    "Crear un **array de numpy** a partir de la lista anterior."
   ]
  },
  {
   "cell_type": "code",
   "execution_count": null,
   "metadata": {},
   "outputs": [],
   "source": []
  },
  {
   "cell_type": "markdown",
   "metadata": {},
   "source": [
    "A partir del array anterior, obtener **3 arrays** con los mismos datos pero **con distintas dimensiones**. Entre estos 3 arrays debe haber un array de **4 filas y 25 columnas**."
   ]
  },
  {
   "cell_type": "code",
   "execution_count": null,
   "metadata": {},
   "outputs": [],
   "source": []
  },
  {
   "cell_type": "markdown",
   "metadata": {},
   "source": [
    "A partir del array de 4 filas y 25 columnas del apartado anterior, obtener un array que contenga las **sumas por cada columna** de dicho array. A partir de este array, obtener la **suma total de los elementos del array** y compararla con la **suma de elementos del primer array del notebook** (el de 100 elementos que se creó a partir de una lista) para ver que son iguales."
   ]
  },
  {
   "cell_type": "code",
   "execution_count": null,
   "metadata": {},
   "outputs": [],
   "source": []
  },
  {
   "cell_type": "markdown",
   "metadata": {},
   "source": [
    "Guardar el contenido del array de 4 filas y 25 columnas en **dos ficheros**: \n",
    "\n",
    "<ol>\n",
    "    <li>un <b>fichero binario</b></li>\n",
    "    <li>un <b>fichero de texto</b></li>\n",
    "</ol>\n",
    "\n",
    "Compara el **tamaño** de ambos ficheros. \n",
    "Abre ambos ficheros con un editor. ¿Qué diferencias observas?"
   ]
  },
  {
   "cell_type": "code",
   "execution_count": null,
   "metadata": {},
   "outputs": [],
   "source": []
  },
  {
   "cell_type": "markdown",
   "metadata": {},
   "source": [
    "Crear un **dataFrame de Pandas** con el contenido del **array de 4 filas y 25 columnas**, además de una **fila con las sumas por columnas** que se obtuvieron anteriormente. "
   ]
  },
  {
   "cell_type": "code",
   "execution_count": null,
   "metadata": {},
   "outputs": [],
   "source": []
  },
  {
   "cell_type": "markdown",
   "metadata": {},
   "source": [
    "Guardar el **dataFrame** del apartado anterior en un **fichero**. ¿Qué formato y qué separador vas a utilizar?"
   ]
  },
  {
   "cell_type": "code",
   "execution_count": null,
   "metadata": {},
   "outputs": [],
   "source": []
  },
  {
   "cell_type": "markdown",
   "metadata": {},
   "source": [
    "## Parte correspondiente al Tema 2 y al Tema 3"
   ]
  },
  {
   "cell_type": "markdown",
   "metadata": {},
   "source": [
    "Cargar el fichero **<a href=\"datasetPED.csv\" target=\"_blank\">datasetPED.csv</a>** en un **dataFrame de pandas**. Se tiene que considerar que el fichero está en la misma ruta del notebook y no poner una ruta absoluta"
   ]
  },
  {
   "cell_type": "code",
   "execution_count": null,
   "metadata": {},
   "outputs": [],
   "source": []
  },
  {
   "cell_type": "markdown",
   "metadata": {},
   "source": [
    "Visualiza los **primeros y los últimos elementos** del dataFrame anterior y comprueba si tienes que hacer alguna modificación en la importación. En tal caso, explica los motivos"
   ]
  },
  {
   "cell_type": "code",
   "execution_count": null,
   "metadata": {},
   "outputs": [],
   "source": []
  },
  {
   "cell_type": "markdown",
   "metadata": {},
   "source": [
    "Explora el dataFrame para ver el **número de columnas**, su **tipo** y el **espacio que ocupa en memoria**."
   ]
  },
  {
   "cell_type": "code",
   "execution_count": null,
   "metadata": {},
   "outputs": [],
   "source": []
  },
  {
   "cell_type": "markdown",
   "metadata": {},
   "source": [
    "Elimina los **elementos repetidos**. Muestra cuántos había"
   ]
  },
  {
   "cell_type": "code",
   "execution_count": null,
   "metadata": {},
   "outputs": [],
   "source": []
  },
  {
   "cell_type": "markdown",
   "metadata": {},
   "source": [
    "Tratar de **reducir el espacio** que ocupa el dataFrame en memoria explicando el proceso y justificando las decisiones realizadas. Comprueba el tamaño del nuevo dataFrame."
   ]
  },
  {
   "cell_type": "code",
   "execution_count": null,
   "metadata": {},
   "outputs": [],
   "source": []
  },
  {
   "cell_type": "markdown",
   "metadata": {},
   "source": [
    "Explora las **columnas** por si puedes realizar alguna simplificación más y reducir más el tamaño que ocupa en memoria el dataFrame."
   ]
  },
  {
   "cell_type": "code",
   "execution_count": null,
   "metadata": {},
   "outputs": [],
   "source": []
  },
  {
   "cell_type": "markdown",
   "metadata": {},
   "source": [
    "Genera un nuevo dataFrame <code>df2</code> que contenga solo las **columnas numéricas** del dataFrame anterior."
   ]
  },
  {
   "cell_type": "code",
   "execution_count": null,
   "metadata": {},
   "outputs": [],
   "source": []
  },
  {
   "cell_type": "markdown",
   "metadata": {},
   "source": [
    "Añade a df2 nuevas **filas** con las **sumas totales**, **medias** y **medianas** por columna."
   ]
  },
  {
   "cell_type": "code",
   "execution_count": null,
   "metadata": {},
   "outputs": [],
   "source": []
  },
  {
   "cell_type": "markdown",
   "metadata": {},
   "source": [
    "Guarda el nuevo dataFrame (df2) en un fichero llamado <code>datasetProcesado.tsv</code>, donde los separadores de las columnas sean **tabuladores**"
   ]
  },
  {
   "cell_type": "code",
   "execution_count": null,
   "metadata": {},
   "outputs": [],
   "source": []
  },
  {
   "cell_type": "markdown",
   "metadata": {},
   "source": [
    "## Parte correspondiente al Tema 4"
   ]
  },
  {
   "cell_type": "markdown",
   "metadata": {},
   "source": [
    "Se pide:\n",
    "\n",
    "<ol>\n",
    "    <li>Crear un array de NumPy llamado <code>original</code> de tamaño <code>size</code> conteniendo números aleatorios</li>\n",
    "    <li>Crear una reordenación aleatoria del array <code>original</code> mediante una lista por comprensión llamada <code>messy</code> <b>en una única línea de código</b></li>\n",
    "</ol>\n",
    "\n",
    "El programa deberá funcionar para **cualquier tamaño** <code>size</code>. Se incluye una comprobación para ver que el resultado es correcto."
   ]
  },
  {
   "cell_type": "code",
   "execution_count": null,
   "metadata": {},
   "outputs": [],
   "source": []
  },
  {
   "cell_type": "code",
   "execution_count": null,
   "metadata": {},
   "outputs": [],
   "source": [
    "sorted_original = np.sort(original)\n",
    "sorted_messy    = np.sort(messy)\n",
    "assert np.array_equal(sorted_original,sorted_messy) and not np.array_equal(original,messy)\n",
    "#si se ha realizado bien, se tiene que mostrar el siguiente mensaje\n",
    "print (\"Proceso correcto\")"
   ]
  }
 ],
 "metadata": {
  "kernelspec": {
   "display_name": "Python 3",
   "language": "python",
   "name": "python3"
  },
  "language_info": {
   "codemirror_mode": {
    "name": "ipython",
    "version": 3
   },
   "file_extension": ".py",
   "mimetype": "text/x-python",
   "name": "python",
   "nbconvert_exporter": "python",
   "pygments_lexer": "ipython3",
   "version": "3.7.5"
  }
 },
 "nbformat": 4,
 "nbformat_minor": 2
}
