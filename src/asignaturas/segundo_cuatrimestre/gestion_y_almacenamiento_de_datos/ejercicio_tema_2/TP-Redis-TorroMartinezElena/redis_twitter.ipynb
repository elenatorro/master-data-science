{
 "cells": [
  {
   "cell_type": "markdown",
   "metadata": {},
   "source": [
    "# TRABAJO PRÁCTICO BASES DE DATOS CLAVE- VALOR: REDIS\n",
    "\n",
    "\n",
    "**Elena Torró Martínez**\n",
    "\n",
    "Asignatura: GESTIÓN Y ALMACENAMIENTO DE INFORMACIÓN NO ESTRUCTURADA\n",
    "MÁSTER UNIVERSITARIO EN INGENIERÍA Y CIENCIA DE DATOS\n",
    "\n",
    "---\n",
    "\n",
    "Esta práctica tiene como objetivo inicializarse con Redis a través de Python, creando unas funciones que interactúen con la base de datos para almacenar y representar mensajes tipo Twitter.\n",
    "\n",
    "Se han utilizado las siguientes librerías:\n",
    "\n",
    "- redis\n",
    "- pandas\n",
    "- datetime\n",
    "\n",
    "## Índice de contenido\n",
    "\n",
    "- [1. Iniciar Redis](#Iniciar-Redis)\n",
    "- [2. Lectura de Datos](#Lectura-de-Datos)\n",
    "- [3. Fechas](#Fechas)\n",
    "- [4. Estructura](#Estructura)\n",
    "- [5. Funciones](#Funciones)\n",
    "- [6. Conclusiones](#Conclusiones)"
   ]
  },
  {
   "cell_type": "markdown",
   "metadata": {},
   "source": [
    "## Iniciar Redis\n",
    "\n",
    "El primer paso es iniciar Redis, conectándonos en local con la base de datos que se ha creado utilizando el `docker-compose` proporcionado. Se ha añadido el comando `flushall` para **reiniciar** la base de datos cada vez que se ejecute el notebook."
   ]
  },
  {
   "cell_type": "code",
   "execution_count": 1,
   "metadata": {},
   "outputs": [
    {
     "data": {
      "text/plain": [
       "True"
      ]
     },
     "execution_count": 1,
     "metadata": {},
     "output_type": "execute_result"
    }
   ],
   "source": [
    "import redis\n",
    "\n",
    "host='127.0.0.1'\n",
    "port=6379\n",
    "\n",
    "redis_db=redis.Redis(host=host,port=port, decode_responses=True)\n",
    "\n",
    "redis_db.flushall()"
   ]
  },
  {
   "cell_type": "markdown",
   "metadata": {},
   "source": [
    "## Lectura de datos\n",
    "\n",
    "Para leer los datos, que se encuentran en formato, vamos a utilizar la librería **Pandas**, y a importar los datos creando una instancia de un DataFrame para poder manipularlos. Este es el contenido de los DataFrames que se van a utilizar: `relations_df` para las relaciones de seguimento entre los usuarios y `users_df` para los tweets de cada usuario."
   ]
  },
  {
   "cell_type": "code",
   "execution_count": 2,
   "metadata": {},
   "outputs": [
    {
     "data": {
      "text/html": [
       "<div>\n",
       "<style scoped>\n",
       "    .dataframe tbody tr th:only-of-type {\n",
       "        vertical-align: middle;\n",
       "    }\n",
       "\n",
       "    .dataframe tbody tr th {\n",
       "        vertical-align: top;\n",
       "    }\n",
       "\n",
       "    .dataframe thead th {\n",
       "        text-align: right;\n",
       "    }\n",
       "</style>\n",
       "<table border=\"1\" class=\"dataframe\">\n",
       "  <thead>\n",
       "    <tr style=\"text-align: right;\">\n",
       "      <th></th>\n",
       "      <th>User</th>\n",
       "      <th>Follows</th>\n",
       "      <th>Following_Time</th>\n",
       "    </tr>\n",
       "  </thead>\n",
       "  <tbody>\n",
       "    <tr>\n",
       "      <th>0</th>\n",
       "      <td>roxanefeller</td>\n",
       "      <td>cathcooney</td>\n",
       "      <td>13 Jun 2019 05:59:58</td>\n",
       "    </tr>\n",
       "    <tr>\n",
       "      <th>1</th>\n",
       "      <td>andyglittle</td>\n",
       "      <td>charleskod</td>\n",
       "      <td>14 Jul 2019 10:07:29</td>\n",
       "    </tr>\n",
       "    <tr>\n",
       "      <th>2</th>\n",
       "      <td>andyglittle</td>\n",
       "      <td>seers_helen</td>\n",
       "      <td>18 Jul 2019 09:50:48</td>\n",
       "    </tr>\n",
       "    <tr>\n",
       "      <th>3</th>\n",
       "      <td>andyglittle</td>\n",
       "      <td>karin_stowell</td>\n",
       "      <td>31 Aug 2019 15:20:48</td>\n",
       "    </tr>\n",
       "    <tr>\n",
       "      <th>4</th>\n",
       "      <td>hanyshita</td>\n",
       "      <td>andyglittle</td>\n",
       "      <td>12 Jul 2019 14:20:46</td>\n",
       "    </tr>\n",
       "  </tbody>\n",
       "</table>\n",
       "</div>"
      ],
      "text/plain": [
       "           User        Follows        Following_Time\n",
       "0  roxanefeller     cathcooney  13 Jun 2019 05:59:58\n",
       "1   andyglittle     charleskod  14 Jul 2019 10:07:29\n",
       "2   andyglittle    seers_helen  18 Jul 2019 09:50:48\n",
       "3   andyglittle  karin_stowell  31 Aug 2019 15:20:48\n",
       "4     hanyshita    andyglittle  12 Jul 2019 14:20:46"
      ]
     },
     "execution_count": 2,
     "metadata": {},
     "output_type": "execute_result"
    }
   ],
   "source": [
    "import pandas as pd\n",
    "\n",
    "relations_df = pd.read_csv('relations.csv')\n",
    "relations_df.head()"
   ]
  },
  {
   "cell_type": "code",
   "execution_count": 3,
   "metadata": {},
   "outputs": [
    {
     "data": {
      "text/html": [
       "<div>\n",
       "<style scoped>\n",
       "    .dataframe tbody tr th:only-of-type {\n",
       "        vertical-align: middle;\n",
       "    }\n",
       "\n",
       "    .dataframe tbody tr th {\n",
       "        vertical-align: top;\n",
       "    }\n",
       "\n",
       "    .dataframe thead th {\n",
       "        text-align: right;\n",
       "    }\n",
       "</style>\n",
       "<table border=\"1\" class=\"dataframe\">\n",
       "  <thead>\n",
       "    <tr style=\"text-align: right;\">\n",
       "      <th></th>\n",
       "      <th>User</th>\n",
       "      <th>Post_Time</th>\n",
       "      <th>Tweet_Content</th>\n",
       "      <th>Unnamed: 3</th>\n",
       "    </tr>\n",
       "  </thead>\n",
       "  <tbody>\n",
       "    <tr>\n",
       "      <th>0</th>\n",
       "      <td>andyglittle</td>\n",
       "      <td>13 Jul 2019 05:59:58</td>\n",
       "      <td>We've loved being motivated by the stories of ...</td>\n",
       "      <td>NaN</td>\n",
       "    </tr>\n",
       "    <tr>\n",
       "      <th>1</th>\n",
       "      <td>andyglittle</td>\n",
       "      <td>05 Jul 2019 10:07:29</td>\n",
       "      <td>Thanks for the shout-out on our #MorethanMedic...</td>\n",
       "      <td>NaN</td>\n",
       "    </tr>\n",
       "    <tr>\n",
       "      <th>2</th>\n",
       "      <td>afparron</td>\n",
       "      <td>11 Jul 2019 09:50:48</td>\n",
       "      <td>#MorethanMedicine — Our Story  via ⁦@animalhea...</td>\n",
       "      <td>NaN</td>\n",
       "    </tr>\n",
       "    <tr>\n",
       "      <th>3</th>\n",
       "      <td>drshahrul80</td>\n",
       "      <td>03 Aug 2019 15:20:48</td>\n",
       "      <td>We hope to get some lovely weather on our annu...</td>\n",
       "      <td>NaN</td>\n",
       "    </tr>\n",
       "    <tr>\n",
       "      <th>4</th>\n",
       "      <td>karin_stowell</td>\n",
       "      <td>04 Aug 2019 14:20:46</td>\n",
       "      <td>This is what #MoreThanMedicine is about. Love ...</td>\n",
       "      <td>NaN</td>\n",
       "    </tr>\n",
       "  </tbody>\n",
       "</table>\n",
       "</div>"
      ],
      "text/plain": [
       "            User             Post_Time  \\\n",
       "0    andyglittle  13 Jul 2019 05:59:58   \n",
       "1    andyglittle  05 Jul 2019 10:07:29   \n",
       "2       afparron  11 Jul 2019 09:50:48   \n",
       "3    drshahrul80  03 Aug 2019 15:20:48   \n",
       "4  karin_stowell  04 Aug 2019 14:20:46   \n",
       "\n",
       "                                       Tweet_Content Unnamed: 3  \n",
       "0  We've loved being motivated by the stories of ...        NaN  \n",
       "1  Thanks for the shout-out on our #MorethanMedic...        NaN  \n",
       "2  #MorethanMedicine — Our Story  via ⁦@animalhea...        NaN  \n",
       "3  We hope to get some lovely weather on our annu...        NaN  \n",
       "4  This is what #MoreThanMedicine is about. Love ...        NaN  "
      ]
     },
     "execution_count": 3,
     "metadata": {},
     "output_type": "execute_result"
    }
   ],
   "source": [
    "users_df = pd.read_csv('twitter_sample.csv')\n",
    "users_df.head()"
   ]
  },
  {
   "cell_type": "markdown",
   "metadata": {},
   "source": [
    "## Fechas\n",
    "\n",
    "Para guardar las fechas vamos a convertirlas a formato `timestamp` utilizando la librería `datetime`. Como Redis, al recuperar una fecha, la devuelve en formato `string` hay que parsearla primero a `float` y después utilizar el formato desearlo para imprimirla.\n",
    "\n",
    "Se han creado dos métodos: `date_to_datetime` para guardar las fechas y `datetime_to_date` para recuperarlas."
   ]
  },
  {
   "cell_type": "code",
   "execution_count": 22,
   "metadata": {},
   "outputs": [],
   "source": [
    "import datetime\n",
    "\n",
    "date_format = '%d %b %Y %H:%M:%S'\n",
    "\n",
    "def date_to_datetime(date_str):\n",
    "    return datetime.datetime.strptime(date_str, date_format).timestamp()\n",
    "\n",
    "def datetime_to_date(date_datetime):\n",
    "    return datetime.datetime.fromtimestamp(float(date_datetime)).strftime(date_format)"
   ]
  },
  {
   "cell_type": "markdown",
   "metadata": {},
   "source": [
    "## Estructura\n",
    "\n",
    "Un punto que he considerado crucial es definir de una manera legible y accesible la nomenclatura para guardar los distintos valores.\n",
    "\n",
    "### Usuarios\n",
    "\n",
    "- `users`. Almacena un set con los usuarios existentes. Permite así saber si un nombre de usuario ya ha sido elegido, ya que el set sólo contiene valores únicos.\n",
    "\n",
    "- `{user_id}`: Valor autoincrementado para generar los ids de usuarios\n",
    "\n",
    "- `user:{user_id}`: almacena los datos de usuario. En este caso, no guardamos nada porque no tenemos realmente nada más que guardar, pero serviría para guardar algunos campos como por ejemplo, la biografía que muestra el usuario en su perfil o similares.\n",
    "    - datos:\n",
    "    ```python\n",
    "      {'username' : 'username'}\n",
    "    ```\n",
    "\n",
    "- `{username}`: almacena el id del usuario asociado a un nombre de usuario. Esto se ha decidido así para que el usuario pueda cambiar de nombre y mantener sin ningún otro cambio adicional todos los otros campos asociados a su id de usuario.\n",
    "     - datos: `user_id`\n",
    "\n",
    "\n",
    "- `followers:{user_id}`: almacena un set ordenado con los ids de los usuarios a los que sigue el usuario con identificador `{user_id}`, que nos permiten obtener después la lista de followers.\n",
    "\n",
    "\n",
    "- `followings:{user_id}`: almacena un set ordenado con los ids de los usuarios de los que es seguidor `{user_id}`, , que nos permiten obtener después la lista de followings.\n",
    "\n",
    "### Posts\n",
    "\n",
    "- `{post_id}`: Valor autoincrementado para generar los ids de los posts\n",
    "\n",
    "- `post:{timestamp}:{post_id}`: Almacena los datos de un post: el id del usuario que lo ha escrito, el contenido del mismo y la fecha en la que lo hizo. Esto facilita la impresión del post. El formato del id se debe a que de este modo podemos ordenarlos por fecha utilizando la función `sort` como pide el enunciado. Además de que, si dos posts han sido publicados justo en la misma fecha, puedan diferenciarse por el id del post.\n",
    "\n",
    "- `posts:user:{id}`: Almacena la lista de posts por usuario. Como la lista hay que recorrerla entera para mostrar los posts y no buscar un elemento dentro de ella, se ha decidido utilizar una simple lista en lugar de otro tipo de estructura."
   ]
  },
  {
   "cell_type": "markdown",
   "metadata": {},
   "source": [
    "## Funciones"
   ]
  },
  {
   "cell_type": "markdown",
   "metadata": {},
   "source": [
    "### Nuevo Usuario\n",
    "\n",
    "Antes de crear un nuevo usuario, se comprueba si está presente en el set de usuarios de la base de datos. Si está, muestra un error."
   ]
  },
  {
   "cell_type": "code",
   "execution_count": 5,
   "metadata": {},
   "outputs": [],
   "source": [
    "def nuevo_usuario(username):\n",
    "    if redis_db.sadd('users', username):\n",
    "        new_id = redis_db.incr('user_id')\n",
    "        user_id = 'user:{0}'.format(new_id)\n",
    "\n",
    "        user_data = {\n",
    "            'username': username\n",
    "        }\n",
    "    \n",
    "        redis_db.set(username, user_id)\n",
    "        redis_db.hmset(user_id, user_data)\n",
    "\n",
    "        return user_data\n",
    "\n",
    "    else:\n",
    "        print('ERROR: User {0} already exists'.format(username))\n",
    "        return False"
   ]
  },
  {
   "cell_type": "markdown",
   "metadata": {},
   "source": [
    "### Nuevo Following y Nuevo Follower\n",
    "\n",
    "Ya que se crean del mismo modo los conjuntos de followings y followers, se ha abstraido la lógica en la función `nuevo_follow`, al que se llama directamente desde `nuevo_following` o `nuevo_follower`, según el caso.\n",
    "\n",
    "Se han tenido en cuenta una serie de consideraciones:\n",
    "\n",
    "- 1. Ambos usuarios han de existir en la base de datos\n",
    "- 2. Un usuario no puede seguirse a sí mismo"
   ]
  },
  {
   "cell_type": "code",
   "execution_count": 6,
   "metadata": {},
   "outputs": [],
   "source": [
    "def nuevo_follow(username, follow_username, date_str, follow_type):\n",
    "    if username == follow_username:\n",
    "        print('ERROR: Username and follower username are the same')\n",
    "        return False\n",
    "    if not redis_db.get(username):\n",
    "        print('ERROR: User {0} does not exist'.format(username))\n",
    "        return False\n",
    "    if not redis_db.get(follow_username):\n",
    "        print('ERROR: User {0} does not exist'.format(follow_username))\n",
    "        return False\n",
    "\n",
    "    user_id = redis_db.mget(username)[0]\n",
    "    follow_id = redis_db.mget(follow_username)[0]\n",
    "    user_follow_id = '{0}:{1}'.format(follow_type, user_id)\n",
    "\n",
    "    timestamp = date_to_datetime(date_str)\n",
    "    follow_data = {follow_username: timestamp}\n",
    "\n",
    "    redis_db.zadd(user_follow_id, follow_data)\n",
    "    \n",
    "    return follow_data"
   ]
  },
  {
   "cell_type": "code",
   "execution_count": 7,
   "metadata": {},
   "outputs": [],
   "source": [
    "def nuevo_follower(username, follower_username, date_str):\n",
    "    return nuevo_follow(username, follower_username, date_str, 'followers')"
   ]
  },
  {
   "cell_type": "code",
   "execution_count": 8,
   "metadata": {},
   "outputs": [],
   "source": [
    "def nuevo_following(username, follower_username, date_str):\n",
    "    return nuevo_follow(username, follower_username, date_str, 'following')"
   ]
  },
  {
   "cell_type": "markdown",
   "metadata": {},
   "source": [
    "### Seguir\n",
    "\n",
    "Esta función simplemente llama, como se expresa en el enunciado, a `nuevo_follower` y `nuevo_following`."
   ]
  },
  {
   "cell_type": "code",
   "execution_count": 9,
   "metadata": {},
   "outputs": [],
   "source": [
    "def seguir(username, follow_username, date_str):\n",
    "    nuevo_follower(username, follow_username, date_str)\n",
    "    nuevo_following(follow_username, username, date_str)"
   ]
  },
  {
   "cell_type": "markdown",
   "metadata": {},
   "source": [
    "### Nuevo Post\n",
    "\n",
    "Esta función almacena los datos del post como se ha explicado anteriormente. Para ello, se hace en 3 pasos importantes:\n",
    "\n",
    "1. Guardar el contenido del post en la estructura `post:{timestamp}:{post_id}` para su futura ordenación\n",
    "2. Añadir el post a la lista de posts del usuario que escribe el post\n",
    "3. Recorrer la lista de usuarios que siguen al usuario que escribe el post para que aparezcan en su timeline, y guardar el post solo si empezó a seguir al usuario **antes** de que hubiera publicado el post."
   ]
  },
  {
   "cell_type": "code",
   "execution_count": 10,
   "metadata": {},
   "outputs": [],
   "source": [
    "def nuevo_post(username, message, date_str):\n",
    "    if not redis_db.get(username):\n",
    "        print('ERROR: User {0} does not exist'.format(username))\n",
    "        return False\n",
    "\n",
    "    new_id = redis_db.incr('post_id')\n",
    "    timestamp = date_to_datetime(date_str)\n",
    "    user_id = redis_db.mget(username)[0]\n",
    "\n",
    "    post_data = {\n",
    "        'user_id': user_id,\n",
    "        'message': message,\n",
    "        'timestamp': timestamp\n",
    "    }\n",
    "\n",
    "    # 1. Save Post Content\n",
    "    post_sort_id = 'post:{0}:{1}'.format(timestamp, new_id)\n",
    "    redis_db.hmset(post_sort_id, post_data)\n",
    "\n",
    "    # 2. Add to users's post list\n",
    "    posts_user_id = 'posts:{0}'.format(user_id)\n",
    "    redis_db.lpush(posts_user_id, post_sort_id)\n",
    "    \n",
    "     # 3. Add to followers user's post list\n",
    "    followers_user_id = 'followers:{0}'.format(user_id)\n",
    "\n",
    "    for key in redis_db.zscan_iter(followers_user_id):\n",
    "        following_timestamp = key[1]\n",
    "        if (following_timestamp < timestamp):\n",
    "            following_username = key[0]\n",
    "            user_id = redis_db.mget(following_username)[0]\n",
    "\n",
    "            posts_user_id = 'posts:{0}'.format(user_id)\n",
    "            redis_db.lpush(posts_user_id, post_sort_id)"
   ]
  },
  {
   "cell_type": "markdown",
   "metadata": {},
   "source": [
    "### Llenar la base de datos\n",
    "\n",
    "La función `database_setup` lee los valores de los ficheros y llamando a `nuevo_usuario`, `seguir` y `nuevo_post` se encarga de rellenar la base de datos."
   ]
  },
  {
   "cell_type": "code",
   "execution_count": 11,
   "metadata": {},
   "outputs": [],
   "source": [
    "def database_setup():\n",
    "    relations_df = pd.read_csv('relations.csv')\n",
    "    users_df = pd.read_csv('twitter_sample.csv')\n",
    "\n",
    "    for username in relations_df.User.unique():\n",
    "        nuevo_usuario(username)\n",
    "        \n",
    "    for index, row in relations_df.iterrows():\n",
    "        seguir(row['User'], row['Follows'], row['Following_Time'])\n",
    "    \n",
    "    for index, row in users_df.iterrows():\n",
    "        nuevo_post(row['User'], row['Tweet_Content'], row['Post_Time'])"
   ]
  },
  {
   "cell_type": "code",
   "execution_count": null,
   "metadata": {},
   "outputs": [],
   "source": [
    "database_setup()"
   ]
  },
  {
   "cell_type": "markdown",
   "metadata": {},
   "source": [
    "### Obtener followers y followings\n",
    "\n",
    "Del mismo modo que la función `nuevo_follow`, la función `obtener_follow_list` abstrae la lógica de imprimir la lista de followers o followings de un usuario dado su nombre de usuario."
   ]
  },
  {
   "cell_type": "code",
   "execution_count": 13,
   "metadata": {},
   "outputs": [],
   "source": [
    "def obtener_follow_list(username, follow_type):\n",
    "    if not redis_db.get(username):\n",
    "        print('ERROR: User {0} does not exist'.format(username))\n",
    "        return False\n",
    "\n",
    "    user_id = redis_db.mget(username)[0]\n",
    "    followers_user_id = '{0}:{1}'.format(follow_type, user_id)\n",
    "\n",
    "    for key in redis_db.zscan_iter(followers_user_id):\n",
    "        print('{0} at {1}'.format(key[0], datetime_to_date(key[1])))"
   ]
  },
  {
   "cell_type": "code",
   "execution_count": 14,
   "metadata": {},
   "outputs": [],
   "source": [
    "def obtener_followers(username):\n",
    "    obtener_follow_list(username, 'followers')"
   ]
  },
  {
   "cell_type": "code",
   "execution_count": 15,
   "metadata": {},
   "outputs": [
    {
     "name": "stdout",
     "output_type": "stream",
     "text": [
      "drshahrul80 at 01 Aug 2019 21:58:25\n"
     ]
    }
   ],
   "source": [
    "obtener_followers('karin_stowell')"
   ]
  },
  {
   "cell_type": "code",
   "execution_count": 16,
   "metadata": {},
   "outputs": [],
   "source": [
    "def obtener_followings(username):\n",
    "    obtener_follow_list(username, 'following')"
   ]
  },
  {
   "cell_type": "code",
   "execution_count": 17,
   "metadata": {},
   "outputs": [
    {
     "name": "stdout",
     "output_type": "stream",
     "text": [
      "drshahrul80 at 24 Jul 2019 10:00:00\n",
      "andyglittle at 31 Aug 2019 15:20:48\n"
     ]
    }
   ],
   "source": [
    "obtener_followings('karin_stowell')"
   ]
  },
  {
   "cell_type": "markdown",
   "metadata": {},
   "source": [
    "### Obtener Timeline\n",
    "\n",
    "Por último, la función `obtener_timeline` devuelve una lista ordenada de manera descendiente de los posts de un usuario, que ha sido creada utilizando la función `nuev_post`.\n",
    "\n",
    "* **sort_by**: nos permite ordenar por `timestamp`\n",
    "\n",
    "* **get**: nos devuelve, de la lista de post almacenados externa, los valores del post que queremos, y que son los que utilizamos para imprimirlos formateados.\n",
    "\n",
    "* **desc**: Ordenamos los posts de manera descendiente ya que queremos leerlos de más reciente a más antiguo.\n",
    "\n",
    "La función `sort` tiene otro parámetro: `source`, para poder guardar el resultado en la base de datos. Inicialmente, quería guardarlo en un sorted set para después poder filtrarlo utilizando el parámetro `match`, pero `sort` no deja guardar tuplas, que es el formato en el que he querido guardar los posts, por lo que al final no he utilizado redis para filtrar los posts por usuario."
   ]
  },
  {
   "cell_type": "code",
   "execution_count": 18,
   "metadata": {},
   "outputs": [],
   "source": [
    "def print_post(user, message, timestamp):\n",
    "    username = redis_db.hmget(user, 'username')[0]\n",
    "    post_message = message\n",
    "    post_date = datetime_to_date(float(timestamp))\n",
    "\n",
    "    print('\\n-----')\n",
    "    print('@{0}: {1} \\n{2}'.format(username, post_message, post_date))\n",
    "    print('-----\\n')"
   ]
  },
  {
   "cell_type": "code",
   "execution_count": 19,
   "metadata": {},
   "outputs": [],
   "source": [
    "def obtener_timeline(username, tweets_propios=False):\n",
    "    if not redis_db.get(username):\n",
    "        print('ERROR: User {0} does not exist'.format(username))\n",
    "        return False\n",
    "\n",
    "    user_id = redis_db.mget(username)[0]\n",
    "    posts_user_id = 'posts:{0}'.format(user_id)\n",
    "    sort_by = 'post:*'\n",
    "    \n",
    "    sorted_posts = redis_db.sort(\n",
    "        posts_user_id,\n",
    "        by=sort_by,\n",
    "        get=['*->user_id', '*->message', '*->timestamp'],\n",
    "        groups=['user_id', 'message', 'timestamp'],\n",
    "        desc=True\n",
    "    )\n",
    "\n",
    "    for post in sorted_posts:\n",
    "        if not tweets_propios:\n",
    "            if user_id != post[0]:\n",
    "                print_post(post[0], post[1], post[2])\n",
    "        else:\n",
    "            print_post(post[0], post[1], post[2])"
   ]
  },
  {
   "cell_type": "code",
   "execution_count": 20,
   "metadata": {
    "scrolled": false
   },
   "outputs": [],
   "source": [
    "obtener_timeline('alkhalilkouma', False)"
   ]
  },
  {
   "cell_type": "code",
   "execution_count": 21,
   "metadata": {
    "scrolled": false
   },
   "outputs": [],
   "source": [
    "obtener_timeline('alkhalilkouma', True)"
   ]
  },
  {
   "cell_type": "markdown",
   "metadata": {},
   "source": [
    "## Conclusiones\n",
    "\n",
    "Esta es la primera vez que utilizo Redis. Por una parte, me parece muy pontente para hacer pequeñas pruebas y tengo interés para ponerlo en práctica en algún proyecto real. Por otra parte, el sistema de nomenclatura me parece complejo ya que no existe ninguna convención para nombrar las claves. Personalmente, soy fan de las convenciones y más cuando vienen de parte de los propios desarrolladores de una librería. Me resultaría complicado utilizar una base de datos de redis creada por otros que no estuviera debidamente documentada.\n",
    "\n",
    "También creo que tiene algunas limitaciones, como por ejemplo, que no pueda elegir en qué formato guardo el output de una operación `sort`. En algunos casos, creo que es posible que algunas de estas limitaciones se deban a la librería de python utilizada, que al final actúa como un API para poder interactuar con Redis. Por esto, el aprendizaje es doble: cómo funciona Redis y cómo interactuar con él a través de esta librería. En la librería echo en falta más ejemplos para saber cómo utilizar las distintas funciones.\n",
    "\n",
    "También echo en falta en los `match` poder ordenar no sólo por valores \"iguales\" o que hagan match, sino poder filtrar por valores numéricos, con filtros como mayor qué, menor qué, etc.\n",
    "\n",
    "Mi percepción es que se trata de algo muy simple que requiere un fuerte esfuerzo en la fase de diseño."
   ]
  }
 ],
 "metadata": {
  "kernelspec": {
   "display_name": "Python 3",
   "language": "python",
   "name": "python3"
  },
  "language_info": {
   "codemirror_mode": {
    "name": "ipython",
    "version": 3
   },
   "file_extension": ".py",
   "mimetype": "text/x-python",
   "name": "python",
   "nbconvert_exporter": "python",
   "pygments_lexer": "ipython3",
   "version": "3.7.7"
  }
 },
 "nbformat": 4,
 "nbformat_minor": 4
}
