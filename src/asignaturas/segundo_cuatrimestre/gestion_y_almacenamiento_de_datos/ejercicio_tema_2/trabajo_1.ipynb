{
 "cells": [
  {
   "cell_type": "markdown",
   "metadata": {},
   "source": [
    "# Trabajo 1\n",
    "\n",
    "Elena Torró Martínez\n",
    "\n",
    "- [1. Iniciar Redis](#Iniciar-Redis)"
   ]
  },
  {
   "cell_type": "markdown",
   "metadata": {},
   "source": [
    "## Iniciar Redis"
   ]
  },
  {
   "cell_type": "code",
   "execution_count": 1,
   "metadata": {},
   "outputs": [
    {
     "data": {
      "text/plain": [
       "True"
      ]
     },
     "execution_count": 1,
     "metadata": {},
     "output_type": "execute_result"
    }
   ],
   "source": [
    "import redis\n",
    "\n",
    "host='127.0.0.1'\n",
    "port=6379\n",
    "\n",
    "redis_db=redis.Redis(host=host,port=port, decode_responses=True)\n",
    "\n",
    "redis_db.flushall()"
   ]
  },
  {
   "cell_type": "code",
   "execution_count": 2,
   "metadata": {},
   "outputs": [],
   "source": [
    "import pandas as pd\n",
    "import numpy as np"
   ]
  },
  {
   "cell_type": "code",
   "execution_count": 3,
   "metadata": {},
   "outputs": [
    {
     "data": {
      "text/html": [
       "<div>\n",
       "<style scoped>\n",
       "    .dataframe tbody tr th:only-of-type {\n",
       "        vertical-align: middle;\n",
       "    }\n",
       "\n",
       "    .dataframe tbody tr th {\n",
       "        vertical-align: top;\n",
       "    }\n",
       "\n",
       "    .dataframe thead th {\n",
       "        text-align: right;\n",
       "    }\n",
       "</style>\n",
       "<table border=\"1\" class=\"dataframe\">\n",
       "  <thead>\n",
       "    <tr style=\"text-align: right;\">\n",
       "      <th></th>\n",
       "      <th>User</th>\n",
       "      <th>Follows</th>\n",
       "      <th>Following_Time</th>\n",
       "    </tr>\n",
       "  </thead>\n",
       "  <tbody>\n",
       "    <tr>\n",
       "      <th>0</th>\n",
       "      <td>roxanefeller</td>\n",
       "      <td>cathcooney</td>\n",
       "      <td>13 Jun 2019 05:59:58</td>\n",
       "    </tr>\n",
       "    <tr>\n",
       "      <th>1</th>\n",
       "      <td>andyglittle</td>\n",
       "      <td>charleskod</td>\n",
       "      <td>14 Jul 2019 10:07:29</td>\n",
       "    </tr>\n",
       "    <tr>\n",
       "      <th>2</th>\n",
       "      <td>andyglittle</td>\n",
       "      <td>seers_helen</td>\n",
       "      <td>18 Jul 2019 09:50:48</td>\n",
       "    </tr>\n",
       "    <tr>\n",
       "      <th>3</th>\n",
       "      <td>andyglittle</td>\n",
       "      <td>karin_stowell</td>\n",
       "      <td>31 Aug 2019 15:20:48</td>\n",
       "    </tr>\n",
       "    <tr>\n",
       "      <th>4</th>\n",
       "      <td>hanyshita</td>\n",
       "      <td>andyglittle</td>\n",
       "      <td>12 Jul 2019 14:20:46</td>\n",
       "    </tr>\n",
       "  </tbody>\n",
       "</table>\n",
       "</div>"
      ],
      "text/plain": [
       "           User        Follows        Following_Time\n",
       "0  roxanefeller     cathcooney  13 Jun 2019 05:59:58\n",
       "1   andyglittle     charleskod  14 Jul 2019 10:07:29\n",
       "2   andyglittle    seers_helen  18 Jul 2019 09:50:48\n",
       "3   andyglittle  karin_stowell  31 Aug 2019 15:20:48\n",
       "4     hanyshita    andyglittle  12 Jul 2019 14:20:46"
      ]
     },
     "execution_count": 3,
     "metadata": {},
     "output_type": "execute_result"
    }
   ],
   "source": [
    "relations_df = pd.read_csv('relations.csv')\n",
    "relations_df.head()"
   ]
  },
  {
   "cell_type": "code",
   "execution_count": 4,
   "metadata": {},
   "outputs": [
    {
     "data": {
      "text/html": [
       "<div>\n",
       "<style scoped>\n",
       "    .dataframe tbody tr th:only-of-type {\n",
       "        vertical-align: middle;\n",
       "    }\n",
       "\n",
       "    .dataframe tbody tr th {\n",
       "        vertical-align: top;\n",
       "    }\n",
       "\n",
       "    .dataframe thead th {\n",
       "        text-align: right;\n",
       "    }\n",
       "</style>\n",
       "<table border=\"1\" class=\"dataframe\">\n",
       "  <thead>\n",
       "    <tr style=\"text-align: right;\">\n",
       "      <th></th>\n",
       "      <th>User</th>\n",
       "      <th>Post_Time</th>\n",
       "      <th>Tweet_Content</th>\n",
       "      <th>Unnamed: 3</th>\n",
       "    </tr>\n",
       "  </thead>\n",
       "  <tbody>\n",
       "    <tr>\n",
       "      <th>0</th>\n",
       "      <td>andyglittle</td>\n",
       "      <td>13 Jul 2019 05:59:58</td>\n",
       "      <td>We've loved being motivated by the stories of ...</td>\n",
       "      <td>NaN</td>\n",
       "    </tr>\n",
       "    <tr>\n",
       "      <th>1</th>\n",
       "      <td>andyglittle</td>\n",
       "      <td>05 Jul 2019 10:07:29</td>\n",
       "      <td>Thanks for the shout-out on our #MorethanMedic...</td>\n",
       "      <td>NaN</td>\n",
       "    </tr>\n",
       "    <tr>\n",
       "      <th>2</th>\n",
       "      <td>afparron</td>\n",
       "      <td>11 Jul 2019 09:50:48</td>\n",
       "      <td>#MorethanMedicine — Our Story  via ⁦@animalhea...</td>\n",
       "      <td>NaN</td>\n",
       "    </tr>\n",
       "    <tr>\n",
       "      <th>3</th>\n",
       "      <td>drshahrul80</td>\n",
       "      <td>03 Aug 2019 15:20:48</td>\n",
       "      <td>We hope to get some lovely weather on our annu...</td>\n",
       "      <td>NaN</td>\n",
       "    </tr>\n",
       "    <tr>\n",
       "      <th>4</th>\n",
       "      <td>karin_stowell</td>\n",
       "      <td>04 Aug 2019 14:20:46</td>\n",
       "      <td>This is what #MoreThanMedicine is about. Love ...</td>\n",
       "      <td>NaN</td>\n",
       "    </tr>\n",
       "  </tbody>\n",
       "</table>\n",
       "</div>"
      ],
      "text/plain": [
       "            User             Post_Time  \\\n",
       "0    andyglittle  13 Jul 2019 05:59:58   \n",
       "1    andyglittle  05 Jul 2019 10:07:29   \n",
       "2       afparron  11 Jul 2019 09:50:48   \n",
       "3    drshahrul80  03 Aug 2019 15:20:48   \n",
       "4  karin_stowell  04 Aug 2019 14:20:46   \n",
       "\n",
       "                                       Tweet_Content Unnamed: 3  \n",
       "0  We've loved being motivated by the stories of ...        NaN  \n",
       "1  Thanks for the shout-out on our #MorethanMedic...        NaN  \n",
       "2  #MorethanMedicine — Our Story  via ⁦@animalhea...        NaN  \n",
       "3  We hope to get some lovely weather on our annu...        NaN  \n",
       "4  This is what #MoreThanMedicine is about. Love ...        NaN  "
      ]
     },
     "execution_count": 4,
     "metadata": {},
     "output_type": "execute_result"
    }
   ],
   "source": [
    "users_df = pd.read_csv('twitter_sample.csv')\n",
    "users_df.head()"
   ]
  },
  {
   "cell_type": "code",
   "execution_count": 5,
   "metadata": {},
   "outputs": [],
   "source": [
    "import datetime\n",
    "date_format = '%d %b %Y %H:%M:%S'\n",
    "\n",
    "def date_to_datetime(date_str):\n",
    "    return datetime.datetime.strptime(date_str, date_format).timestamp()\n",
    "\n",
    "def datetime_to_date(date_datetime):\n",
    "    return datetime.datetime.fromtimestamp(date_datetime).strftime(date_format)"
   ]
  },
  {
   "cell_type": "markdown",
   "metadata": {},
   "source": [
    "Diseño\n",
    "\n",
    "- `users`\n",
    "- `tweets`"
   ]
  },
  {
   "cell_type": "markdown",
   "metadata": {},
   "source": [
    "## Funciones"
   ]
  },
  {
   "cell_type": "markdown",
   "metadata": {},
   "source": [
    "`nuevo_usuario`\n",
    "\n",
    "Esta función recibirá el nombre del nuevo usuario y generará una nueva entrada en la base de datos utilizando un identificador incremental (proporcionado por Redis) para cada usuario. Este identificador incremental se puede utilizar para diferenciar cada una de las claves que contengan usuarios, de tal manera que dichas claves sean similares a la siguiente: “user:[id]”, donde “id” es el identificador del usuario. Para cada usuario deberemos almacenar su nombre. De la misma forma se recomienda almacenar todos los usuarios y sus identificadores dentro de una misma estructura de datos única cuya clave puede ser “users”."
   ]
  },
  {
   "cell_type": "code",
   "execution_count": 6,
   "metadata": {},
   "outputs": [],
   "source": [
    "def nuevo_usuario(username):\n",
    "    if redis_db.sadd('users', username):\n",
    "        new_id = redis_db.incr('user_id')\n",
    "        user_id = 'user:{0}'.format(new_id)\n",
    "\n",
    "        user_data = {\n",
    "            'username': username\n",
    "        }\n",
    "    \n",
    "        redis_db.set(username, user_id)\n",
    "        redis_db.hmset(user_id, user_data)\n",
    "\n",
    "        return user_data\n",
    "\n",
    "    else:\n",
    "        print('ERROR: User {0} already exists'.format(username))\n",
    "        return False"
   ]
  },
  {
   "cell_type": "code",
   "execution_count": 7,
   "metadata": {},
   "outputs": [],
   "source": [
    "def nuevo_follow(username, follow_username, date_str, follow_type):\n",
    "    if username == follow_username:\n",
    "        print('ERROR: Username and follower username are the same')\n",
    "        return False\n",
    "    if not redis_db.get(username):\n",
    "        print('ERROR: User {0} does not exist'.format(username))\n",
    "        return False\n",
    "    if not redis_db.get(follow_username):\n",
    "        print('ERROR: User {0} does not exist'.format(follow_username))\n",
    "        return False\n",
    "\n",
    "    user_id = redis_db.mget(username)[0]\n",
    "    follow_id = redis_db.mget(follow_username)[0]\n",
    "    user_follow_id = '{0}:{1}'.format(follow_type, user_id)\n",
    "\n",
    "    timestamp = date_to_datetime(date_str)\n",
    "    follow_data = {follow_username: timestamp}\n",
    "\n",
    "    redis_db.zadd(user_follow_id, follow_data)\n",
    "    \n",
    "    return follow_data"
   ]
  },
  {
   "cell_type": "code",
   "execution_count": 8,
   "metadata": {},
   "outputs": [],
   "source": [
    "def nuevo_follower(username, follower_username, date_str):\n",
    "    return nuevo_follow(username, follower_username, date_str, 'followers')"
   ]
  },
  {
   "cell_type": "code",
   "execution_count": 9,
   "metadata": {},
   "outputs": [],
   "source": [
    "def nuevo_following(username, follower_username, date_str):\n",
    "    return nuevo_follow(username, follower_username, date_str, 'following')"
   ]
  },
  {
   "cell_type": "code",
   "execution_count": 10,
   "metadata": {},
   "outputs": [],
   "source": [
    "def seguir(username, follow_username, date_str):\n",
    "    nuevo_follower(username, follow_username, date_str)\n",
    "    nuevo_following(follow_username, username, date_str)"
   ]
  },
  {
   "cell_type": "code",
   "execution_count": 11,
   "metadata": {},
   "outputs": [],
   "source": [
    "def nuevo_post(username, message, date_str):\n",
    "    if not redis_db.get(username):\n",
    "        print('ERROR: User {0} does not exist'.format(username))\n",
    "        return False\n",
    "\n",
    "    new_id = redis_db.incr('post_id')\n",
    "    post_id = 'post:{0}'.format(new_id)    \n",
    "    timestamp = date_to_datetime(date_str)\n",
    "\n",
    "    post_data = {\n",
    "        'username': username,\n",
    "        'message': message,\n",
    "        'timestamp': timestamp\n",
    "    }\n",
    "    \n",
    "    user_id = redis_db.mget(username)[0]\n",
    "\n",
    "    # 1. Save Post Content\n",
    "    post_sort_id = 'post:{0}{1}'.format(timestamp, new_id)\n",
    "    redis_db.hmset(post_sort_id, post_data)\n",
    "\n",
    "    # 2. Add to users's post list\n",
    "    posts_user_id = 'posts:{0}'.format(user_id)\n",
    "    redis_db.lpush(posts_user_id, post_sort_id)\n",
    "    \n",
    "    following_user_id = 'following:{0}'.format(user_id)\n",
    "\n",
    "    for key in redis_db.zscan_iter(following_user_id):\n",
    "        following_timestamp = key[1]\n",
    "        following_username = key[0]\n",
    "        user_id = redis_db.mget(following_username)[0]\n",
    "\n",
    "        # 3. Add to following user's post list\n",
    "        posts_user_id = 'posts:{0}'.format(user_id)\n",
    "        redis_db.lpush(posts_user_id, post_sort_id)"
   ]
  },
  {
   "cell_type": "code",
   "execution_count": 12,
   "metadata": {},
   "outputs": [],
   "source": [
    "def database_setup():\n",
    "    relations_df = pd.read_csv('relations.csv')\n",
    "    users_df = pd.read_csv('twitter_sample.csv')\n",
    "\n",
    "    for username in relations_df.User.unique():\n",
    "        nuevo_usuario(username)\n",
    "        \n",
    "    for index, row in relations_df.iterrows():\n",
    "        seguir(row['User'], row['Follows'], row['Following_Time'])\n",
    "    \n",
    "    for index, row in users_df.iterrows():\n",
    "        nuevo_post(row['User'], row['Tweet_Content'], row['Post_Time'])"
   ]
  },
  {
   "cell_type": "code",
   "execution_count": 13,
   "metadata": {},
   "outputs": [
    {
     "name": "stdout",
     "output_type": "stream",
     "text": [
      "ERROR: User nan does not exist\n"
     ]
    }
   ],
   "source": [
    "database_setup()"
   ]
  },
  {
   "cell_type": "code",
   "execution_count": 14,
   "metadata": {},
   "outputs": [],
   "source": [
    "def obtener_followers(username):\n",
    "    user_id = redis_db.mget(username)[0]\n",
    "    followers_user_id = 'followers:{0}'.format(user_id)\n",
    "    follower_user_id = ''\n",
    "\n",
    "    for key in redis_db.zscan_iter(followers_user_id):\n",
    "        print('{0} at {1}'.format(key[0], datetime.datetime.fromtimestamp(key[1]).isoformat()))"
   ]
  },
  {
   "cell_type": "code",
   "execution_count": 15,
   "metadata": {},
   "outputs": [
    {
     "name": "stdout",
     "output_type": "stream",
     "text": [
      "charleskod at 2019-07-14T10:07:29\n",
      "seers_helen at 2019-07-18T09:50:48\n",
      "karin_stowell at 2019-08-31T15:20:48\n"
     ]
    }
   ],
   "source": [
    "obtener_followers('andyglittle')"
   ]
  },
  {
   "cell_type": "code",
   "execution_count": 16,
   "metadata": {},
   "outputs": [],
   "source": [
    "def obtener_following(username):\n",
    "    user_id = redis_db.mget(username)[0]\n",
    "    followers_user_id = 'following:{0}'.format(user_id)\n",
    "    follower_user_id = ''\n",
    "\n",
    "    for key in redis_db.zscan_iter(followers_user_id):\n",
    "        print('{0} at {1}'.format(key[0], datetime.datetime.fromtimestamp(key[1]).isoformat()))"
   ]
  },
  {
   "cell_type": "code",
   "execution_count": 17,
   "metadata": {},
   "outputs": [
    {
     "name": "stdout",
     "output_type": "stream",
     "text": [
      "hanyshita at 2019-07-12T14:20:46\n",
      "charleskod at 2019-07-31T12:54:57\n"
     ]
    }
   ],
   "source": [
    "obtener_following('andyglittle')"
   ]
  },
  {
   "cell_type": "code",
   "execution_count": 44,
   "metadata": {},
   "outputs": [],
   "source": [
    "def obtener_timeline(username, tweets_propios=False):\n",
    "    user_id = redis_db.mget(username)[0]\n",
    "    posts_user_id = 'posts:{0}'.format(user_id)\n",
    "    sort_by = 'post:*'\n",
    "    sorted_posts = redis_db.sort(\n",
    "        posts_user_id,\n",
    "        by=sort_by,\n",
    "        get=['*->username', '*->message', '*->timestamp'],\n",
    "        desc=True\n",
    "    )\n",
    "    \n",
    "    for x in range(0, len(sorted_posts), 3):\n",
    "        print('@{0}: {1} - at {2}'.format(sorted_posts[x], sorted_posts[x+1], datetime_to_date(float(sorted_posts[x+2]))))\n",
    "        print('-----')"
   ]
  },
  {
   "cell_type": "code",
   "execution_count": 45,
   "metadata": {
    "scrolled": false
   },
   "outputs": [
    {
     "name": "stdout",
     "output_type": "stream",
     "text": [
      "@andyglittle: Another spot of our #morethanmedicine bus in #bristol this week! If you need support with your cancer diagnosis call us on 0303 3000 118. #livingwellwithcancer https://t.co/eZGLz0BkXB - at 30 Aug 2019 09:55:43\n",
      "-----\n",
      "@seers_helen: What a great team ⁦@HealthSourceOH⁩ ⁦@Local12⁩ #morethanmedicine https://t.co/g2YzMDUpVA - at 30 Aug 2019 00:49:54\n",
      "-----\n",
      "@seers_helen: Will you be at #FIX19? Want a preview of @AG_EM33 story? Then check back Monday for #ChangeOfHeart where we sat down with Alin to discuss her new life since her heart #transplant #MoreThanMedicine https://t.co/Xl9zjr7kZ1 - at 29 Aug 2019 19:54:36\n",
      "-----\n",
      "@seers_helen: Czy wiesz, że do bez leków dla zwierząt potrzeba by 89% więcej zwierząt do wyprodukowania tej samej ilości mleka i wołowiny?\n",
      "#MoreThanMedicine https://t.co/SEtHxlV4p1 - at 28 Aug 2019 05:18:35\n",
      "-----\n",
      "@andyglittle: For nearly 40 years @PennyBrohnUK has been a link between standard medical treatment and social prescribing, that's why we're at the second @SocialPrescrib2. https://t.co/nD6V7aG5lI #morethanmedicine #socialprescribing2019 https://t.co/c8dRWTbtx5 - at 27 Aug 2019 16:07:40\n",
      "-----\n",
      "@seers_helen: For our Board Member, @HubertTrentesaux, every day #animalhealthmatters because for him, his daily work is #morethanmedicine it's a passion ! \n",
      "@animalhealthEU https://t.co/PrfIJ7Wf1N - at 27 Aug 2019 06:43:13\n",
      "-----\n",
      "@seers_helen: A study showed that without #animalmedicines, we would need 89% more cattle to produce the same amount of milk &amp; beef! 🐄🥛🥩\n",
      "✅ Our industry provides a range of solutions to ensure good #animalhealth management on farms\n",
      "#MorethanMedicine https://t.co/PmoXZ9RoJv - at 27 Aug 2019 06:36:12\n",
      "-----\n",
      "@karin_stowell: We delivered our 5,000th My Special Aflac Duck yesterday.  So proud of @Aflac and my team! #morethanmedicine  https://t.co/80s3NRVyKM - at 24 Aug 2019 13:16:53\n",
      "-----\n",
      "@karin_stowell: There are so many ways to protect animal health!\n",
      "Our solutions are so much #MorethanMedicine ✅ https://t.co/uVFDXEsFux - at 23 Aug 2019 11:15:07\n",
      "-----\n",
      "@karin_stowell: Had a ball having all 3 hosts together to record a session talking #sponsorship in medicine! As always thanks to @DKDINER for having us! #MoreThanMedicine #storytelling https://t.co/3502L3fwGF - at 23 Aug 2019 01:32:14\n",
      "-----\n",
      "@andyglittle: @somedocs #MoreThanMedicine \n",
      "#MedEd\n",
      "#FOAMed \n",
      "\n",
      "@dkalnow partner in crime, self appointed grammar cop, a voice of reason... - at 22 Aug 2019 09:44:36\n",
      "-----\n",
      "@seers_helen: With wicked awesome guests like @srrezaie @mizuhomorrison @chitwngurl @DocWillisMD and others your bound to enjoy our #MoreThanMedicine conversations with hosts @dkalnow @MOX13 @andyglittle #podcast https://t.co/Yd5HY3Lxgi - at 17 Aug 2019 21:01:14\n",
      "-----\n",
      "@charleskod: Why not join us for Stomp 2019, our annual 6 mile sponsroed walk on Sat 12 Oct 2019.  You will experience the many benefits of walking in a group as well as raise funds to help others live well with cancer.  https://t.co/ddnrNCnBXa\n",
      "#letswalktogether #stomp2019 #morethanmedicine https://t.co/Nv7uE7r0Ai - at 09 Aug 2019 20:59:53\n",
      "-----\n",
      "@charleskod: We hope you are enjoying your summer with family &amp; friends.  Why not bring some of them along to Stomp 2019?  You can register today for our annual  6 mile sponsored walk on Sat 12 Oct 2019.  https://t.co/ddnrNCnBXa\n",
      "#letswalktogether #stomp2019  #morethanmedicine https://t.co/N0oguj9xxk - at 08 Aug 2019 19:34:14\n",
      "-----\n",
      "@karin_stowell: Impfen schützt!💉🐕🐈🐄🐖🐎🐔\n",
      "Der beste Weg zu mehr Tiergesundheit: Krankheiten vermeiden\n",
      "Lesen Sie unsere 📰Pressemitteilung: https://t.co/7W26yG0Oja\n",
      "#Impfung #Tiergesundheit #AnimalHealthMatters #PetsareFamily #MorethanMedicine - at 07 Aug 2019 10:50:29\n",
      "-----\n",
      "@karin_stowell: This is what #MoreThanMedicine is about. Love it! https://t.co/44KfXMv8s4 - at 04 Aug 2019 14:20:46\n",
      "-----\n",
      "@charleskod: Vaccines help to prevent illness, but what else can we do to protect our animals?\n",
      "⬇️ Here's a few more solutions:\n",
      "#MorethanMedicine https://t.co/fna2Cj387c - at 04 Aug 2019 11:17:16\n",
      "-----\n",
      "@karin_stowell: Part time triathlete 🏊‍♂️🚴‍♂️🏃‍♂️&amp; runner, Rob Kelly from @Zoetis is heading up #digital innovation in #animalhealth on the AnimalhealthEurope Board.\n",
      "Read about his passion for #agriculture in his #MorethanMedicine story: \n",
      "https://t.co/wioHIAYiYh @robkelly2807 - at 29 Jul 2019 18:13:21\n",
      "-----\n",
      "@karin_stowell: @somedocs @ShikhaJainMD @DrJaimeFriedman @usnehal @Dr_Stepheny @SadiaFMD @DrCJohns @RoxanneSukolMD @AlexMMTri @DrCorriel #EmergencyMedicine and #simulation doc and podcaster @EMOverEasy easy talking about #morethanmedicine - at 27 Jul 2019 13:57:04\n",
      "-----\n",
      "@andyglittle: This July we'll be sharing the stories of our Board company members through our #MorethanMedicine campaign:\n",
      "https://t.co/aAO0qA35j0\n",
      "Get to know the people driving the future of #animalhealth &amp; learn more about what gets our tails wagging. - at 25 Jul 2019 12:03:17\n",
      "-----\n",
      "@charleskod: Working for #Virbac, a company founded by a #veterinarian, our Board member Hubert Trentesaux has spent his entire career -almost 30 years - in #animalhealth!\n",
      "Read his #MorethanMedicine story to discover how he still enjoys his work every single day: https://t.co/l0fZpB3Szr - at 25 Jul 2019 03:32:46\n",
      "-----\n",
      "@seers_helen: Healthy animals produce nutrient-rich fish, meat, eggs and dairy products. We’re supporting @animalhealthEU’s #MoreThanMedicine campaign to raise awareness on why and how #animalhealth can be improved https://t.co/H5cG53YWkd - at 24 Jul 2019 11:50:39\n",
      "-----\n",
      "@karin_stowell: Animal health &amp; rock music - what do they have in common?🤔\n",
      "The only #cat owner 🐈on our Board, our Treasurer Dominique Derveaux from #Vetoquinol shares his passion for #animalhealth &amp; rock as they partner w/ @eurockeennes\n",
      "Read his #MorethanMedicine story: https://t.co/dcMSWcAV5d - at 23 Jul 2019 00:29:42\n",
      "-----\n",
      "@karin_stowell: Whether in North South East or West Europe our Members care for animals and explain why the animal health industry is #morethanmedicine. Let AnimalhealthEurope ‘s Board member from Finland Niclas Lindstedt tell you more! https://t.co/lZpb470VjV - at 18 Jul 2019 13:09:44\n",
      "-----\n",
      "@andyglittle: Our summer newsletter is out!\n",
      "Read all about our #MorethanMedicine project, meet the people behind the #animalhealth industry in Europe &amp; check out our #petcare tips!\n",
      "▶️https://t.co/SqilXtD6xG https://t.co/J1r9ViYhPa - at 18 Jul 2019 09:09:22\n",
      "-----\n",
      "@seers_helen: Our pets are in our homes and gardens, on our sofas and even on our beds! 🛏️🐈\n",
      "\n",
      "That's why #AnimalHealth is about so much #MorethanMedicine, because we want to help you enjoy a life-long happy and healthy bond with your pet. 👨👩❤️🐕 https://t.co/NDlgfe8wQT - at 18 Jul 2019 08:43:26\n",
      "-----\n",
      "@karin_stowell: Our industry is about people who have a passion for #animalhealthmatters\n",
      "At @animalhealthEU we are so much #MorethanMedicine https://t.co/EzeuAxWiL3 - at 18 Jul 2019 08:42:23\n",
      "-----\n",
      "@seers_helen: Animal medicines help vets to prevent illness and to ensure sick animals get better, but what else?\n",
      "Here's a few more things our solutions contribute to\n",
      " ⬇️⬇️⬇️ \n",
      "#MorethanMedicine https://t.co/aZ7F3CE16C - at 16 Jul 2019 12:16:36\n",
      "-----\n",
      "@karin_stowell: A passion for poultry 🐓\n",
      "And a #dog called Bonaparte 🐕\n",
      "\n",
      "Get to know more about our Board member Eddy Piron from #Huvepharma and his passion for Europe🇪🇺 &amp; #animalhealth via our #MorethanMedicine feature on @LinkedIn:\n",
      "https://t.co/qAOUH0RsD1 https://t.co/vDD31UtWPL - at 16 Jul 2019 07:32:07\n",
      "-----\n",
      "@charleskod: The thoughts and feeling of wanting to commit suicide are real. Physicians are at risk. So, what is to be done? That is why we brought in experts @L_swish @EMTaba to discuss how we can help those who are at risk.\n",
      "\n",
      "https://t.co/2nMoQ74xol\n",
      "\n",
      "#MoreThanMedicine #PhysicianSuicide https://t.co/ss4JDdNYDd - at 15 Jul 2019 17:14:47\n",
      "-----\n",
      "@andyglittle: For this rebroadcast listen as @dkalnow @MOX13 and @andyglittle discuss the sports psychology concept of #ConsistentBehavioralExpectations (E+R=O) https://t.co/GGmnTbl1BX #MoreThanMedicine #TipsForNewDocs https://t.co/YPBLG7kHuS - at 13 Jul 2019 13:00:48\n",
      "-----\n",
      "@andyglittle: We've loved being motivated by the stories of social prescribing initiatives from around the world. Continue the conversations with us @PennyBrohnUK's national conference in November, where we'll be discussing why we all need #morethanmedicine https://t.co/NtTQ1KVjOj https://t.co/f8T9jGuDVx - at 13 Jul 2019 05:59:58\n",
      "-----\n",
      "@charleskod: Equipping #vets with a wide range of solutions so that they can ensure good animal welfare means that #animalhealth is #MorethanMedicine. Keep following @animalhealthEU to find out more about how they are supporting the #veterinary profession in a holistic way https://t.co/6w5U6uGCVv - at 10 Jul 2019 20:16:09\n",
      "-----\n",
      "@charleskod: ✅Our solutions help vets to care for sick animals, ensuring their return to good health\n",
      "But that's not all!\n",
      "Here's what else our solutions can help with:\n",
      "#MorethanMedicine https://t.co/aHFR7dlFEn - at 09 Jul 2019 15:28:50\n",
      "-----\n",
      "@andyglittle: We just love a Farmers Market, so much so, that we are holding one for the second year running on Saturday 12 October 2019 in the gardens of our National Centre in Pill.  Please do pop along and join us.\n",
      "#letswalktogether #morethanmedicine #farmersmarket https://t.co/ZV8EArXZ26 - at 06 Jul 2019 06:04:40\n",
      "-----\n",
      "@seers_helen: Solid episode our own @dkalnow and @andyglittle talking about 10 #TipsForNewDocs #Humanism #MoreThanMedicine https://t.co/CYN6l9Rb3n - at 05 Jul 2019 19:25:03\n",
      "-----\n",
      "@andyglittle: Thanks for the shout-out on our #MorethanMedicine communications @EURACTIV @BrusselsGeek! \n",
      "Follow us on Twitter @animalhealthEU \n",
      "And read more here: https://t.co/Fu1IUq3T5W https://t.co/F7oQRtcwn2 - at 05 Jul 2019 10:07:29\n",
      "-----\n",
      "@karin_stowell: Welcome to the Finnish Presidency @EU2019FI! \n",
      "Looking forward to exchanging with you on the positive role that #animalhealth has to play in challenges like #foodsafety, food security, #climatechange &amp; environmental protection.\n",
      "#MorethanMedicine #AnimalHealthMatters https://t.co/Zh5BE5MNQY - at 02 Jul 2019 20:30:57\n",
      "-----\n",
      "@karin_stowell: Hope. . .with feathers! Today, we've provided more than 4,300 My Special Aflac Ducks, to children at 210 hospitals in 47 states, free of charge.  We're just getting started and won't stop until childhood cancer is eradicated. #morethanmedicine \n",
      "https://t.co/oAMHwJjTZc - at 02 Jul 2019 03:45:49\n",
      "-----\n",
      "@andyglittle: First up on our best of the past year, is #LearningMoments where @dkalnow and @andyglittle had the chance to sit down with @DocWillisMD and discussed the idea of Learning Moments. \n",
      "\n",
      "https://t.co/zgZgZKouX8\n",
      "\n",
      "#MoreThanMedicine #TipsForNewDocs https://t.co/LvPVhSJyuS - at 01 Jul 2019 19:36:52\n",
      "-----\n"
     ]
    }
   ],
   "source": [
    "obtener_timeline('andyglittle')"
   ]
  }
 ],
 "metadata": {
  "kernelspec": {
   "display_name": "Python 3",
   "language": "python",
   "name": "python3"
  },
  "language_info": {
   "codemirror_mode": {
    "name": "ipython",
    "version": 3
   },
   "file_extension": ".py",
   "mimetype": "text/x-python",
   "name": "python",
   "nbconvert_exporter": "python",
   "pygments_lexer": "ipython3",
   "version": "3.7.7"
  }
 },
 "nbformat": 4,
 "nbformat_minor": 4
}
