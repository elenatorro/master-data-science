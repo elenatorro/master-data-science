{
 "cells": [
  {
   "cell_type": "markdown",
   "metadata": {},
   "source": [
    "# Trabajo 1\n",
    "\n",
    "Elena Torró Martínez\n",
    "\n",
    "- [1. Iniciar Redis](#Iniciar-Redis)"
   ]
  },
  {
   "cell_type": "markdown",
   "metadata": {},
   "source": [
    "## Iniciar Redis"
   ]
  },
  {
   "cell_type": "code",
   "execution_count": 1,
   "metadata": {},
   "outputs": [
    {
     "data": {
      "text/plain": [
       "True"
      ]
     },
     "execution_count": 1,
     "metadata": {},
     "output_type": "execute_result"
    }
   ],
   "source": [
    "import redis\n",
    "\n",
    "host='127.0.0.1'\n",
    "port=6379\n",
    "\n",
    "redis_db=redis.Redis(host=host,port=port, decode_responses=True)\n",
    "\n",
    "redis_db.flushall()"
   ]
  },
  {
   "cell_type": "code",
   "execution_count": 2,
   "metadata": {},
   "outputs": [],
   "source": [
    "import pandas as pd\n",
    "import numpy as np"
   ]
  },
  {
   "cell_type": "code",
   "execution_count": 3,
   "metadata": {},
   "outputs": [
    {
     "data": {
      "text/html": [
       "<div>\n",
       "<style scoped>\n",
       "    .dataframe tbody tr th:only-of-type {\n",
       "        vertical-align: middle;\n",
       "    }\n",
       "\n",
       "    .dataframe tbody tr th {\n",
       "        vertical-align: top;\n",
       "    }\n",
       "\n",
       "    .dataframe thead th {\n",
       "        text-align: right;\n",
       "    }\n",
       "</style>\n",
       "<table border=\"1\" class=\"dataframe\">\n",
       "  <thead>\n",
       "    <tr style=\"text-align: right;\">\n",
       "      <th></th>\n",
       "      <th>User</th>\n",
       "      <th>Follows</th>\n",
       "      <th>Following_Time</th>\n",
       "    </tr>\n",
       "  </thead>\n",
       "  <tbody>\n",
       "    <tr>\n",
       "      <th>0</th>\n",
       "      <td>roxanefeller</td>\n",
       "      <td>cathcooney</td>\n",
       "      <td>13 Jun 2019 05:59:58</td>\n",
       "    </tr>\n",
       "    <tr>\n",
       "      <th>1</th>\n",
       "      <td>andyglittle</td>\n",
       "      <td>charleskod</td>\n",
       "      <td>14 Jul 2019 10:07:29</td>\n",
       "    </tr>\n",
       "    <tr>\n",
       "      <th>2</th>\n",
       "      <td>andyglittle</td>\n",
       "      <td>seers_helen</td>\n",
       "      <td>18 Jul 2019 09:50:48</td>\n",
       "    </tr>\n",
       "    <tr>\n",
       "      <th>3</th>\n",
       "      <td>andyglittle</td>\n",
       "      <td>karin_stowell</td>\n",
       "      <td>31 Aug 2019 15:20:48</td>\n",
       "    </tr>\n",
       "    <tr>\n",
       "      <th>4</th>\n",
       "      <td>hanyshita</td>\n",
       "      <td>andyglittle</td>\n",
       "      <td>12 Jul 2019 14:20:46</td>\n",
       "    </tr>\n",
       "  </tbody>\n",
       "</table>\n",
       "</div>"
      ],
      "text/plain": [
       "           User        Follows        Following_Time\n",
       "0  roxanefeller     cathcooney  13 Jun 2019 05:59:58\n",
       "1   andyglittle     charleskod  14 Jul 2019 10:07:29\n",
       "2   andyglittle    seers_helen  18 Jul 2019 09:50:48\n",
       "3   andyglittle  karin_stowell  31 Aug 2019 15:20:48\n",
       "4     hanyshita    andyglittle  12 Jul 2019 14:20:46"
      ]
     },
     "execution_count": 3,
     "metadata": {},
     "output_type": "execute_result"
    }
   ],
   "source": [
    "relations_df = pd.read_csv('relations.csv')\n",
    "relations_df.head()"
   ]
  },
  {
   "cell_type": "code",
   "execution_count": 4,
   "metadata": {},
   "outputs": [
    {
     "data": {
      "text/html": [
       "<div>\n",
       "<style scoped>\n",
       "    .dataframe tbody tr th:only-of-type {\n",
       "        vertical-align: middle;\n",
       "    }\n",
       "\n",
       "    .dataframe tbody tr th {\n",
       "        vertical-align: top;\n",
       "    }\n",
       "\n",
       "    .dataframe thead th {\n",
       "        text-align: right;\n",
       "    }\n",
       "</style>\n",
       "<table border=\"1\" class=\"dataframe\">\n",
       "  <thead>\n",
       "    <tr style=\"text-align: right;\">\n",
       "      <th></th>\n",
       "      <th>User</th>\n",
       "      <th>Post_Time</th>\n",
       "      <th>Tweet_Content</th>\n",
       "      <th>Unnamed: 3</th>\n",
       "    </tr>\n",
       "  </thead>\n",
       "  <tbody>\n",
       "    <tr>\n",
       "      <th>0</th>\n",
       "      <td>andyglittle</td>\n",
       "      <td>13 Jul 2019 05:59:58</td>\n",
       "      <td>We've loved being motivated by the stories of ...</td>\n",
       "      <td>NaN</td>\n",
       "    </tr>\n",
       "    <tr>\n",
       "      <th>1</th>\n",
       "      <td>andyglittle</td>\n",
       "      <td>05 Jul 2019 10:07:29</td>\n",
       "      <td>Thanks for the shout-out on our #MorethanMedic...</td>\n",
       "      <td>NaN</td>\n",
       "    </tr>\n",
       "    <tr>\n",
       "      <th>2</th>\n",
       "      <td>afparron</td>\n",
       "      <td>11 Jul 2019 09:50:48</td>\n",
       "      <td>#MorethanMedicine — Our Story  via ⁦@animalhea...</td>\n",
       "      <td>NaN</td>\n",
       "    </tr>\n",
       "    <tr>\n",
       "      <th>3</th>\n",
       "      <td>drshahrul80</td>\n",
       "      <td>03 Aug 2019 15:20:48</td>\n",
       "      <td>We hope to get some lovely weather on our annu...</td>\n",
       "      <td>NaN</td>\n",
       "    </tr>\n",
       "    <tr>\n",
       "      <th>4</th>\n",
       "      <td>karin_stowell</td>\n",
       "      <td>04 Aug 2019 14:20:46</td>\n",
       "      <td>This is what #MoreThanMedicine is about. Love ...</td>\n",
       "      <td>NaN</td>\n",
       "    </tr>\n",
       "  </tbody>\n",
       "</table>\n",
       "</div>"
      ],
      "text/plain": [
       "            User             Post_Time  \\\n",
       "0    andyglittle  13 Jul 2019 05:59:58   \n",
       "1    andyglittle  05 Jul 2019 10:07:29   \n",
       "2       afparron  11 Jul 2019 09:50:48   \n",
       "3    drshahrul80  03 Aug 2019 15:20:48   \n",
       "4  karin_stowell  04 Aug 2019 14:20:46   \n",
       "\n",
       "                                       Tweet_Content Unnamed: 3  \n",
       "0  We've loved being motivated by the stories of ...        NaN  \n",
       "1  Thanks for the shout-out on our #MorethanMedic...        NaN  \n",
       "2  #MorethanMedicine — Our Story  via ⁦@animalhea...        NaN  \n",
       "3  We hope to get some lovely weather on our annu...        NaN  \n",
       "4  This is what #MoreThanMedicine is about. Love ...        NaN  "
      ]
     },
     "execution_count": 4,
     "metadata": {},
     "output_type": "execute_result"
    }
   ],
   "source": [
    "users_df = pd.read_csv('twitter_sample.csv')\n",
    "users_df.head()"
   ]
  },
  {
   "cell_type": "code",
   "execution_count": 5,
   "metadata": {},
   "outputs": [],
   "source": [
    "import datetime\n",
    "\n",
    "def date_to_datetime(date_str):\n",
    "    date_format = '%d %b %Y %H:%M:%S'\n",
    "    return datetime.datetime.strptime(date_str, date_format).timestamp()"
   ]
  },
  {
   "cell_type": "markdown",
   "metadata": {},
   "source": [
    "Diseño\n",
    "\n",
    "- `users`\n",
    "- `tweets`"
   ]
  },
  {
   "cell_type": "markdown",
   "metadata": {},
   "source": [
    "## Funciones"
   ]
  },
  {
   "cell_type": "markdown",
   "metadata": {},
   "source": [
    "`nuevo_usuario`\n",
    "\n",
    "Esta función recibirá el nombre del nuevo usuario y generará una nueva entrada en la base de datos utilizando un identificador incremental (proporcionado por Redis) para cada usuario. Este identificador incremental se puede utilizar para diferenciar cada una de las claves que contengan usuarios, de tal manera que dichas claves sean similares a la siguiente: “user:[id]”, donde “id” es el identificador del usuario. Para cada usuario deberemos almacenar su nombre. De la misma forma se recomienda almacenar todos los usuarios y sus identificadores dentro de una misma estructura de datos única cuya clave puede ser “users”."
   ]
  },
  {
   "cell_type": "code",
   "execution_count": 6,
   "metadata": {},
   "outputs": [],
   "source": [
    "def nuevo_usuario(username):\n",
    "    if redis_db.sadd('users', username):\n",
    "        new_id = redis_db.incr('user_id')\n",
    "        user_id = 'user:{0}'.format(new_id)\n",
    "\n",
    "        user_data = {\n",
    "            'username': username\n",
    "        }\n",
    "    \n",
    "        redis_db.set(username, user_id)\n",
    "        redis_db.hmset(user_id, user_data)\n",
    "\n",
    "        return user_data\n",
    "\n",
    "    else:\n",
    "        print('ERROR: User {0} already exists'.format(username))\n",
    "        return False"
   ]
  },
  {
   "cell_type": "code",
   "execution_count": 7,
   "metadata": {},
   "outputs": [],
   "source": [
    "def nuevo_follow(username, follow_username, date_str, follow_type):\n",
    "    if username == follow_username:\n",
    "        print('ERROR: Username and follower username are the same')\n",
    "        return False\n",
    "    if not redis_db.get(username):\n",
    "        print('ERROR: User {0} does not exist'.format(username))\n",
    "        return False\n",
    "    if not redis_db.get(follow_username):\n",
    "        print('ERROR: User {0} does not exist'.format(follow_username))\n",
    "        return False\n",
    "\n",
    "    user_id = redis_db.mget(username)[0]\n",
    "    follow_id = redis_db.mget(follow_username)[0]\n",
    "    user_follow_id = '{0}:{1}'.format(follow_type, user_id)\n",
    "\n",
    "    # timestamp = date_to_datetime(date_str)\n",
    "    timestamp = int(date_str)\n",
    "    follow_data = {follow_username: timestamp}\n",
    "\n",
    "    redis_db.zadd(user_follow_id, follow_data)\n",
    "    \n",
    "    return follow_data"
   ]
  },
  {
   "cell_type": "code",
   "execution_count": 8,
   "metadata": {},
   "outputs": [],
   "source": [
    "def nuevo_follower(username, follower_username, date_str):\n",
    "    return nuevo_follow(username, follower_username, date_str, 'followers')"
   ]
  },
  {
   "cell_type": "code",
   "execution_count": 9,
   "metadata": {},
   "outputs": [],
   "source": [
    "def nuevo_following(username, follower_username, date_str):\n",
    "    return nuevo_follow(username, follower_username, date_str, 'following')"
   ]
  },
  {
   "cell_type": "code",
   "execution_count": 10,
   "metadata": {},
   "outputs": [],
   "source": [
    "def seguir(username, follow_username, date_str):\n",
    "    nuevo_follower(username, follow_username, date_str)\n",
    "    nuevo_following(follow_username, username, date_str)"
   ]
  },
  {
   "cell_type": "code",
   "execution_count": 11,
   "metadata": {},
   "outputs": [],
   "source": [
    "def nuevo_post(username, message, date_str):\n",
    "    if not redis_db.get(username):\n",
    "        print('ERROR: User {0} does not exist'.format(username))\n",
    "        return False\n",
    "\n",
    "    new_id = redis_db.incr('post_id')\n",
    "    post_id = 'post:{0}'.format(new_id)    \n",
    "    # timestamp = date_to_datetime(date_str)\n",
    "    timestamp = int(date_str)\n",
    "\n",
    "    post_data = {\n",
    "        'username': username,\n",
    "        'message': message,\n",
    "        'timestamp': timestamp\n",
    "    }\n",
    "    \n",
    "    user_id = redis_db.mget(username)[0]\n",
    "\n",
    "    # 1. Save Post Content\n",
    "    post_sort_id = '{0}:{1}'.format(post_id, timestamp)\n",
    "    redis_db.hmset(post_sort_id, post_data)\n",
    "\n",
    "    # 2. Add to users's post list\n",
    "    posts_user_id = 'posts:{0}'.format(user_id)\n",
    "    redis_db.lpush(posts_user_id, post_sort_id)\n",
    "    \n",
    "    following_user_id = 'following:{0}'.format(user_id)\n",
    "\n",
    "    for key in redis_db.zscan_iter(following_user_id):\n",
    "        following_timestamp = key[1]\n",
    "        following_username = key[0]\n",
    "        user_id = redis_db.mget(following_username)[0]\n",
    "\n",
    "        # 3. Add to following user's post list\n",
    "        posts_user_id = 'posts:{0}'.format(user_id)\n",
    "        redis_db.lpush(posts_user_id, post_sort_id)"
   ]
  },
  {
   "cell_type": "code",
   "execution_count": 12,
   "metadata": {},
   "outputs": [],
   "source": [
    "def database_setup():\n",
    "    relations_df = pd.read_csv('relations.csv')\n",
    "    relations_df['Following_Time'] = np.random.randint(1, 30, relations_df.shape[0])\n",
    "    users_df = pd.read_csv('twitter_sample.csv')\n",
    "    users_df['Post_Time'] = np.random.randint(1, 30, users_df.shape[0])\n",
    "\n",
    "    for username in relations_df.User.unique():\n",
    "        nuevo_usuario(username)\n",
    "        \n",
    "    for index, row in relations_df.iterrows():\n",
    "        seguir(row['User'], row['Follows'], row['Following_Time'])\n",
    "    \n",
    "    for index, row in users_df.iterrows():\n",
    "        nuevo_post(row['User'], row['Tweet_Content'], row['Post_Time'])"
   ]
  },
  {
   "cell_type": "code",
   "execution_count": 13,
   "metadata": {},
   "outputs": [
    {
     "name": "stdout",
     "output_type": "stream",
     "text": [
      "ERROR: User nan does not exist\n"
     ]
    }
   ],
   "source": [
    "database_setup()"
   ]
  },
  {
   "cell_type": "code",
   "execution_count": 14,
   "metadata": {},
   "outputs": [],
   "source": [
    "def obtener_followers(username):\n",
    "    user_id = redis_db.mget(username)[0]\n",
    "    followers_user_id = 'followers:{0}'.format(user_id)\n",
    "    follower_user_id = ''\n",
    "\n",
    "    for key in redis_db.zscan_iter(followers_user_id):\n",
    "        print('{0} at {1}'.format(key[0], datetime.datetime.fromtimestamp(key[1]).isoformat()))"
   ]
  },
  {
   "cell_type": "code",
   "execution_count": 15,
   "metadata": {},
   "outputs": [
    {
     "name": "stdout",
     "output_type": "stream",
     "text": [
      "karin_stowell at 1970-01-01T01:00:09\n",
      "seers_helen at 1970-01-01T01:00:26\n",
      "charleskod at 1970-01-01T01:00:27\n"
     ]
    }
   ],
   "source": [
    "obtener_followers('andyglittle')"
   ]
  },
  {
   "cell_type": "code",
   "execution_count": 16,
   "metadata": {},
   "outputs": [],
   "source": [
    "def obtener_following(username):\n",
    "    user_id = redis_db.mget(username)[0]\n",
    "    followers_user_id = 'following:{0}'.format(user_id)\n",
    "    follower_user_id = ''\n",
    "\n",
    "    for key in redis_db.zscan_iter(followers_user_id):\n",
    "        print('{0} at {1}'.format(key[0], datetime.datetime.fromtimestamp(key[1]).isoformat()))"
   ]
  },
  {
   "cell_type": "code",
   "execution_count": 17,
   "metadata": {},
   "outputs": [
    {
     "name": "stdout",
     "output_type": "stream",
     "text": [
      "charleskod at 1970-01-01T01:00:02\n",
      "hanyshita at 1970-01-01T01:00:25\n"
     ]
    }
   ],
   "source": [
    "obtener_following('andyglittle')"
   ]
  },
  {
   "cell_type": "code",
   "execution_count": 20,
   "metadata": {},
   "outputs": [],
   "source": [
    "def obtener_timeline(username, tweets_propios=False):\n",
    "    user_id = redis_db.mget(username)[0]\n",
    "    posts_user_id = 'posts:{0}'.format(user_id)\n",
    "    sort_by = 'posts:{0}:*'.format(user_id)\n",
    "    sorted_posts = redis_db.sort(posts_user_id, by=sort_by, get='*')\n",
    "\n",
    "    print(sorted_posts)"
   ]
  },
  {
   "cell_type": "code",
   "execution_count": 21,
   "metadata": {
    "scrolled": false
   },
   "outputs": [
    {
     "name": "stdout",
     "output_type": "stream",
     "text": [
      "[None, None, None, None, None, None, None, None, None, None, None, None, None, None, None, None, None, None, None, None, None, None, None, None, None, None, None, None, None, None, None, None, None, None, None, None, None, None, None, None]\n"
     ]
    }
   ],
   "source": [
    "obtener_timeline('andyglittle')"
   ]
  },
  {
   "cell_type": "code",
   "execution_count": null,
   "metadata": {},
   "outputs": [],
   "source": [
    "redis_db.flushall()"
   ]
  },
  {
   "cell_type": "code",
   "execution_count": null,
   "metadata": {},
   "outputs": [],
   "source": [
    "redis_db.set('user_1_1', 'hello')\n",
    "redis_db.lpush('test_list', 'user_1_1')"
   ]
  },
  {
   "cell_type": "code",
   "execution_count": null,
   "metadata": {},
   "outputs": [],
   "source": [
    "redis_db.set('user_1_100', 'world')\n",
    "redis_db.lpush('test_list', 'user_1_100')"
   ]
  },
  {
   "cell_type": "code",
   "execution_count": null,
   "metadata": {},
   "outputs": [],
   "source": [
    "redis_db.set('user_1_50', 'fucking')\n",
    "redis_db.lpush('test_list', 'user_1_50')"
   ]
  },
  {
   "cell_type": "code",
   "execution_count": null,
   "metadata": {},
   "outputs": [],
   "source": [
    "redis_db.sort('test_list', by='test_list_*', get='*')"
   ]
  },
  {
   "cell_type": "code",
   "execution_count": null,
   "metadata": {},
   "outputs": [],
   "source": [
    "redis_db.get('user:1:1')"
   ]
  },
  {
   "cell_type": "code",
   "execution_count": null,
   "metadata": {},
   "outputs": [],
   "source": []
  }
 ],
 "metadata": {
  "kernelspec": {
   "display_name": "Python 3",
   "language": "python",
   "name": "python3"
  },
  "language_info": {
   "codemirror_mode": {
    "name": "ipython",
    "version": 3
   },
   "file_extension": ".py",
   "mimetype": "text/x-python",
   "name": "python",
   "nbconvert_exporter": "python",
   "pygments_lexer": "ipython3",
   "version": "3.7.7"
  }
 },
 "nbformat": 4,
 "nbformat_minor": 4
}
